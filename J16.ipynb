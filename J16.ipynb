{
 "cells": [
  {
   "cell_type": "markdown",
   "metadata": {},
   "source": [
    "# 16. час: Утврђивање градива\n",
    "\n",
    "Сада ћемо мало застати и осврнути се на материјал са последња два часа."
   ]
  },
  {
   "cell_type": "markdown",
   "metadata": {},
   "source": [
    "**Задатак 1.** Погледај пажљиво наредбе у следећој ћелији, па одговори на питања:"
   ]
  },
  {
   "cell_type": "code",
   "execution_count": null,
   "metadata": {},
   "outputs": [],
   "source": [
    "import pandas as pd\n",
    "\n",
    "temp_anomalije = pd.read_csv(\"podaci/TemperaturneAnomalije.csv\", header=None)\n",
    "temp_anomalije1 = temp_anomalije.T\n",
    "temp_anomalije1.columns = [\"Година\", \"Аномалија\"]\n",
    "\n",
    "aditivi = pd.read_excel(\"podaci/Aditivi.xlsx\", sheet_name=\"Адитиви\", na_filter=False)\n",
    "\n",
    "drzave = pd.read_csv(\"https://raw.githubusercontent.com/cs109/2014_data/master/countries.csv\")\n",
    "\n",
    "US = pd.read_html(\"https://simple.wikipedia.org/wiki/List_of_U.S._states\", header=0)[0]"
   ]
  },
  {
   "cell_type": "markdown",
   "metadata": {},
   "source": [
    "1. Како бисмо учитали табелу `TemperaturneAnomalije.csv` када би она имала заглавље?\n",
    "2. Зашто смо на табелу `temp_anomalije` применили функцију `T`?\n",
    "3. Колико колона има табела `temp_anomalije1`?\n",
    "4. Шта ће урадити функција `read_excel` ако се уклони аргумент `sheet_name=\"Адитиви\"` (знамо да табела има само један радни лист)?\n",
    "4. Шта значи аргумент `na_filter=False` функције `read_excel`?\n",
    "5. Да ли је табела `drzave` формирана на основу података који су смештени локално, на твом рачунару?\n",
    "6. У ком формату су представљени подаци на основу којих је формирана табела `US`?\n",
    "7. Шта би се десило када би у интернет претраживач укуцао `https://simple.wikipedia.org/wiki/List_of_U.S._states`?"
   ]
  },
  {
   "cell_type": "markdown",
   "metadata": {},
   "source": [
    "**Задатак 2.** У фолдеру _podaci_ се налази датотека _StanovnistvoSrbije2017.csv_ (која има заглавље). Табела има три колоне које се зову \"Старост\", \"Мушко\" и \"Женско\".\n",
    "\n",
    "_(а)_ Учитати датотеку у структуру података _DataFrame_ и индексирати табелу колоном \"Старост\"."
   ]
  },
  {
   "cell_type": "markdown",
   "metadata": {},
   "source": [
    "_(б)_ На основу података из табеле израчунати колики је процењени број становника у следећим старосним групама:\n",
    "\n",
    "* 0--17 година,\n",
    "* 18--65 година, и\n",
    "* 66 и више година,\n",
    "\n",
    "и представити ова три податка секторским дијаграмом. (Упутство: следећи израр може бити од помоћи: `tabela.loc[\"0\":\"17\", \"Мушко\":\"Женско\"]`)"
   ]
  },
  {
   "cell_type": "markdown",
   "metadata": {},
   "source": [
    "**Задатак 3.** Ученици једног разреда су скакали у даљ. Сваки ученик је скако три пута и резултати су дати у датотеци _SkokUDalj.csv_ која се налази у фолдеру _podaci_. Табела има заглавље и састоји се од четири колоне: \"Презиме и име\", \"Скок1\", \"Скок2\" и \"Скок3\".\n",
    "\n",
    "_(а)_ Учитати датотеку у структуру података _DataFrame_."
   ]
  },
  {
   "cell_type": "markdown",
   "metadata": {},
   "source": [
    "_(в)_ Издвојити из табеле оне редове које садрже ученике који су начинили бар један преступ. Преступ је у табели означен тако што је дужина одговарајућег скока постављена на 0."
   ]
  },
  {
   "cell_type": "markdown",
   "metadata": {},
   "source": [
    "**Задатак 4.** У табели `podaci/SO2.xlsx` налазе се резултати мерења концентрације сумпор-диоксида у 2017. години у неким градовима Србије. Табела има четири колоне:\n",
    "\n",
    "* МернаСтаница = Мерна станица\n",
    "* СГВ = Средња годишња вредност у микрограмима по кубном метру\n",
    "* БД125 = Број дана са више од 125 микрограма по кубном метру\n",
    "* МДВ = Максимална дневна вредност у микрограмима по кубном метру\n",
    "\n",
    "_(а)_ Учитати ову табелу у структуру података _DataFrame_."
   ]
  },
  {
   "cell_type": "markdown",
   "metadata": {},
   "source": [
    "_(б)_ Сортирати подаке по колони СГВ и приказати вредности у овој колони хистограмом."
   ]
  },
  {
   "cell_type": "markdown",
   "metadata": {},
   "source": [
    "**Задатак 5.** У табели `podaci/Cricket.xlsx` се налазе подаци о најбољим играчима крикета. Ова табела има заглавље."
   ]
  },
  {
   "cell_type": "markdown",
   "metadata": {},
   "source": [
    "_(а)_ Учитати ову табелу у структуру података _DataFrame_ и исписати првих неколико редова табеле да видимо како изгледа. Индексирати табелу колоном \"Player\"."
   ]
  },
  {
   "cell_type": "markdown",
   "metadata": {},
   "source": [
    "_(б)_ Додати табели нову колону \"YP\" (_Years Played_) и у њу уписати колико година је сваки играч био активан. (За сваког играча од године у колони \"To\" одузети годину у колони \"From\")."
   ]
  },
  {
   "cell_type": "markdown",
   "metadata": {},
   "source": [
    "_(в)_ Додати табели нову колону \"ARY\" (_Average Runs per Year_) и у њу уписати количник бројева из колоне \"Runs\" и \"YP\". (ARY = Runs / YP)."
   ]
  },
  {
   "cell_type": "markdown",
   "metadata": {},
   "source": [
    "_(г)_ Сортирати табелу по колони \"ARY\" од највећих ка најмањим вредностима и приказати првих 25 редова табеле. У ком веку су били активни скоро сви од ових 25 играча? Шта мислиш зашто?"
   ]
  },
  {
   "cell_type": "code",
   "execution_count": null,
   "metadata": {},
   "outputs": [],
   "source": []
  }
 ],
 "metadata": {
  "kernelspec": {
   "display_name": "Python 3",
   "language": "python",
   "name": "python3"
  },
  "language_info": {
   "codemirror_mode": {
    "name": "ipython",
    "version": 3
   },
   "file_extension": ".py",
   "mimetype": "text/x-python",
   "name": "python",
   "nbconvert_exporter": "python",
   "pygments_lexer": "ipython3",
   "version": "3.6.5"
  }
 },
 "nbformat": 4,
 "nbformat_minor": 2
}
